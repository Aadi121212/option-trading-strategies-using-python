{
 "cells": [
  {
   "cell_type": "code",
   "execution_count": null,
   "metadata": {},
   "outputs": [],
   "source": [
    "import numpy as np\n",
    "import matplotlib.pyplot as plt\n",
    "# For making attractive and informative statistical graph\n",
    "import seaborn"
   ]
  },
  {
   "cell_type": "code",
   "execution_count": null,
   "metadata": {},
   "outputs": [],
   "source": [
    "s = np.arange(0,101) #stockprice range\n",
    "k1= float(input(\"Enter strike price for long call: \")) \n",
    "k2= float(input(\"Enter strike price for short call: \")) \n",
    "k3= float(input(\"Enter strike price for long put: \")) \n",
    "k4= float(input(\"Enter strike price for short put: \")) \n",
    "call_premium = 4\n",
    "put_premium = 2"
   ]
  },
  {
   "cell_type": "code",
   "execution_count": null,
   "metadata": {},
   "outputs": [],
   "source": [
    "def call_payoff(stock_price, strike_price, premium): \n",
    "    return np.where(stock_price > strike_price, stock_price - strike_price, 0) - premium\n",
    "\n",
    "payoff_long_call = call_payoff(s, k1, call_premium)\n",
    "payoff_short_call = call_payoff(s, k2, call_premium) * -1.0\n",
    "\n",
    "def put_payoff(stock_price, strike_price, premium):\n",
    "    return np.where(stock_price < strike_price, strike_price - stock_price, 0) - premium\n",
    "\n",
    "payoff_long_put = put_payoff(s, k3, put_premium)\n",
    "payoff_short_put = put_payoff(s, k4, put_premium) * -1.0\n",
    "\n",
    "\n",
    "def final_payoff(a,b,c,d):\n",
    "    return a*payoff_long_call + b*payoff_short_call+ c*payoff_long_put + d*payoff_short_put"
   ]
  },
  {
   "cell_type": "code",
   "execution_count": null,
   "metadata": {},
   "outputs": [],
   "source": [
    "long_call = final_payoff(1, 0, 0, 0)\n",
    "print (\"Max Profit:\", max(long_call))\n",
    "print (\"Max Loss:\", min(long_call))\n",
    "# Plot\n",
    "fig, ax = plt.subplots()\n",
    "ax.spines['top'].set_visible(False) # Top border removed \n",
    "ax.spines['right'].set_visible(False) # Right border removed\n",
    "ax.spines['bottom'].set_position('zero') # Sets the X-axis in the center\n",
    "\n",
    "\n",
    "ax.plot(s,long_call,label='long_call')\n",
    "plt.xlabel('Stock Price', ha='left')\n",
    "plt.ylabel('Profit and loss')\n",
    "plt.legend()\n",
    "plt.show()"
   ]
  },
  {
   "cell_type": "code",
   "execution_count": null,
   "metadata": {},
   "outputs": [],
   "source": [
    "long_put = final_payoff(0, 0, 1, 0)\n",
    "print (\"Max Profit:\", max(long_put))\n",
    "print (\"Max Loss:\", min(long_put))\n",
    "# Plot\n",
    "fig, ax = plt.subplots()\n",
    "ax.spines['top'].set_visible(False) # Top border removed \n",
    "ax.spines['right'].set_visible(False) # Right border removed\n",
    "ax.spines['bottom'].set_position('zero') # Sets the X-axis in the center\n",
    "\n",
    "\n",
    "ax.plot(s,long_put,label='long_put')\n",
    "plt.xlabel('Stock Price', ha='left')\n",
    "plt.ylabel('Profit and loss')\n",
    "plt.legend()\n",
    "plt.show()"
   ]
  },
  {
   "cell_type": "code",
   "execution_count": null,
   "metadata": {},
   "outputs": [],
   "source": [
    "short_call = final_payoff(0, 1, 0, 0)\n",
    "print (\"Max Profit:\", max(short_call))\n",
    "print (\"Max Loss:\", min(short_call))\n",
    "# Plot\n",
    "fig, ax = plt.subplots()\n",
    "ax.spines['top'].set_visible(False) # Top border removed \n",
    "ax.spines['right'].set_visible(False) # Right border removed\n",
    "ax.spines['bottom'].set_position('zero') # Sets the X-axis in the center\n",
    "\n",
    "\n",
    "ax.plot(s,short_call,label='short_call')\n",
    "plt.xlabel('Stock Price', ha='left')\n",
    "plt.ylabel('Profit and loss')\n",
    "plt.legend()\n",
    "plt.show()"
   ]
  },
  {
   "cell_type": "code",
   "execution_count": null,
   "metadata": {},
   "outputs": [],
   "source": [
    "short_put = final_payoff(0, 0, 0, 1)\n",
    "print (\"Max Profit:\", max(short_put))\n",
    "print (\"Max Loss:\", min(short_put))\n",
    "# Plot\n",
    "fig, ax = plt.subplots()\n",
    "ax.spines['top'].set_visible(False) # Top border removed \n",
    "ax.spines['right'].set_visible(False) # Right border removed\n",
    "ax.spines['bottom'].set_position('zero') # Sets the X-axis in the center\n",
    "\n",
    "\n",
    "ax.plot(s,short_put,label='short_put')\n",
    "plt.xlabel('Stock Price', ha='left')\n",
    "plt.ylabel('Profit and loss')\n",
    "plt.legend()\n",
    "plt.show()"
   ]
  },
  {
   "cell_type": "code",
   "execution_count": null,
   "metadata": {},
   "outputs": [],
   "source": [
    "Synthetic_long_stock  = final_payoff(1, 0, 0, 1)\n",
    "print (\"Max Profit:\", max(Synthetic_long_stock))\n",
    "print (\"Max Loss:\", min(Synthetic_long_stock))\n",
    "# Plot\n",
    "fig, ax = plt.subplots()\n",
    "ax.spines['top'].set_visible(False) # Top border removed \n",
    "ax.spines['right'].set_visible(False) # Right border removed\n",
    "ax.spines['bottom'].set_position('zero') # Sets the X-axis in the center\n",
    "\n",
    "\n",
    "ax.plot(s,Synthetic_long_stock,label='Synthetic_long_stock')\n",
    "plt.xlabel('Stock Price', ha='left')\n",
    "plt.ylabel('Profit and loss')\n",
    "plt.legend()\n",
    "plt.show()"
   ]
  },
  {
   "cell_type": "code",
   "execution_count": null,
   "metadata": {},
   "outputs": [],
   "source": [
    "Short_Straddle = final_payoff(0,1 ,0, 1)\n",
    "print (\"Max Profit:\", max(Short_Straddle))\n",
    "print (\"Max Loss:\",min(Short_Straddle))\n",
    "# Plot\n",
    "fig, ax = plt.subplots()\n",
    "ax.spines['top'].set_visible(False) # Top border removed \n",
    "ax.spines['right'].set_visible(False) # Right border removed\n",
    "ax.spines['bottom'].set_position('zero') # Sets the X-axis in the center\n",
    "\n",
    "\n",
    "ax.plot(s,Short_Straddle,label='Short_Straddle')\n",
    "plt.xlabel('Stock Price', ha='left')\n",
    "plt.ylabel('Profit and loss')\n",
    "plt.legend()\n",
    "plt.show()"
   ]
  },
  {
   "cell_type": "markdown",
   "metadata": {},
   "source": [
    "##### "
   ]
  },
  {
   "cell_type": "code",
   "execution_count": null,
   "metadata": {},
   "outputs": [],
   "source": [
    "a= 50\n",
    "b=54\n",
    "c=58\n",
    "payoff_long_call1 = call_payoff(s, a, call_premium)\n",
    "payoff_long_call2 = call_payoff(s, c, call_premium)\n",
    "payoff_short_call1 = call_payoff(s, b, call_premium) * -1.0\n",
    "\n",
    "long_call_butterfly = payoff_long_call1 +2*payoff_short_call1+ payoff_long_call2\n",
    "\n",
    "print (\"Max Profit:\", max(long_call_butterfly))\n",
    "print (\"Max Loss:\",min(long_call_butterfly))\n",
    "# Plot\n",
    "fig, ax = plt.subplots()\n",
    "ax.spines['top'].set_visible(False) # Top border removed \n",
    "ax.spines['right'].set_visible(False) # Right border removed\n",
    "ax.spines['bottom'].set_position('zero') # Sets the X-axis in the center\n",
    "\n",
    "\n",
    "ax.plot(s,long_call_butterfly,label='long_call_butterfly')\n",
    "plt.xlabel('Stock Price', ha='left')\n",
    "plt.ylabel('Profit and loss')\n",
    "plt.legend()\n",
    "plt.show()"
   ]
  },
  {
   "cell_type": "code",
   "execution_count": null,
   "metadata": {},
   "outputs": [],
   "source": [
    "a= 50\n",
    "b=55\n",
    "c=60\n",
    "d=65\n",
    "payoff_long_call1 = call_payoff(s, a, call_premium)\n",
    "payoff_long_call2 = call_payoff(s, d, call_premium)\n",
    "payoff_short_call1 = call_payoff(s, b, call_premium) * -1.0\n",
    "payoff_short_call2 = call_payoff(s, c, call_premium) * -1.0\n",
    "\n",
    "\n",
    "Condour = payoff_long_call1 + payoff_short_call1+ payoff_short_call2+ payoff_long_call2\n",
    "\n",
    "print (\"Max Profit:\", max(Condour))\n",
    "print (\"Max Loss:\",min(Condour))\n",
    "# Plot\n",
    "fig, ax = plt.subplots()\n",
    "ax.spines['top'].set_visible(False) # Top border removed \n",
    "ax.spines['right'].set_visible(False) # Right border removed\n",
    "ax.spines['bottom'].set_position('zero') # Sets the X-axis in the center\n",
    "\n",
    "\n",
    "ax.plot(s,Condour,label='Condour')\n",
    "plt.xlabel('Stock Price', ha='left')\n",
    "plt.ylabel('Profit and loss')\n",
    "plt.legend()\n",
    "plt.show()"
   ]
  },
  {
   "cell_type": "code",
   "execution_count": null,
   "metadata": {},
   "outputs": [],
   "source": [
    "a= 50\n",
    "c=55\n",
    "put_premium1=10\n",
    "put_premium2=14\n",
    "payoff_long_put1 = put_payoff(s, a, put_premium1)\n",
    "payoff_short_put1 = put_payoff(s, c, put_premium2) * -1.0\n",
    "\n",
    "\n",
    "bull_spread = payoff_long_put1+payoff_short_put1\n",
    "\n",
    "print (\"Max Profit:\", max(bull_spread))\n",
    "print (\"Max Loss:\",min(bull_spread))\n",
    "# Plot\n",
    "fig, ax = plt.subplots()\n",
    "ax.spines['top'].set_visible(False) # Top border removed \n",
    "ax.spines['right'].set_visible(False) # Right border removed\n",
    "ax.spines['bottom'].set_position('zero') # Sets the X-axis in the center\n",
    "\n",
    "\n",
    "ax.plot(s,bull_spread,label='bull_spread')\n",
    "plt.xlabel('Stock Price', ha='left')\n",
    "plt.ylabel('Profit and loss')\n",
    "plt.legend()\n",
    "plt.show()"
   ]
  }
 ],
 "metadata": {
  "kernelspec": {
   "display_name": "Python 3.10.5 64-bit",
   "language": "python",
   "name": "python3"
  },
  "language_info": {
   "codemirror_mode": {
    "name": "ipython",
    "version": 3
   },
   "file_extension": ".py",
   "mimetype": "text/x-python",
   "name": "python",
   "nbconvert_exporter": "python",
   "pygments_lexer": "ipython3",
   "version": "3.10.5"
  },
  "vscode": {
   "interpreter": {
    "hash": "aee8b7b246df8f9039afb4144a1f6fd8d2ca17a180786b69acc140d282b71a49"
   }
  }
 },
 "nbformat": 4,
 "nbformat_minor": 4
}
